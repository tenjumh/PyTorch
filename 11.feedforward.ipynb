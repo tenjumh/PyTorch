{
 "cells": [
  {
   "cell_type": "code",
   "execution_count": 1,
   "metadata": {},
   "outputs": [],
   "source": [
    "import torch\n",
    "import torch.nn as nn\n",
    "import torchvision\n",
    "import torchvision.transforms as transforms\n",
    "import matplotlib.pyplot as plt"
   ]
  },
  {
   "cell_type": "code",
   "execution_count": 2,
   "metadata": {},
   "outputs": [],
   "source": [
    "device = torch.device('cuda' if torch.cuda.is_available() else 'cpu')"
   ]
  },
  {
   "cell_type": "code",
   "execution_count": 3,
   "metadata": {},
   "outputs": [
    {
     "data": {
      "text/plain": [
       "device(type='cuda')"
      ]
     },
     "execution_count": 3,
     "metadata": {},
     "output_type": "execute_result"
    }
   ],
   "source": [
    "device"
   ]
  },
  {
   "cell_type": "markdown",
   "metadata": {},
   "source": [
    "#### Hyper - parameters"
   ]
  },
  {
   "cell_type": "code",
   "execution_count": 49,
   "metadata": {},
   "outputs": [],
   "source": [
    "input_size = 784\n",
    "hidden_size = 500\n",
    "num_classes = 10\n",
    "num_epochs = 2\n",
    "batch_size = 10\n",
    "learning_rate = 0.001"
   ]
  },
  {
   "cell_type": "markdown",
   "metadata": {},
   "source": [
    "#### Data set"
   ]
  },
  {
   "cell_type": "code",
   "execution_count": 50,
   "metadata": {},
   "outputs": [],
   "source": [
    "train_dataset = torchvision.datasets.MNIST(root='./data',\n",
    "                                          train=True,\n",
    "                                          transform=transforms.ToTensor(),\n",
    "                                          download=True)\n",
    "test_dataset = torchvision.datasets.MNIST(root='./data',\n",
    "                                         train=False,\n",
    "                                         transform=transforms.ToTensor())\n",
    "\n",
    "#Data loader\n",
    "train_loader = torch.utils.data.DataLoader(dataset=train_dataset,\n",
    "                                          batch_size=batch_size,\n",
    "                                          shuffle=True)\n",
    "test_loader = torch.utils.data.DataLoader(dataset=test_dataset,\n",
    "                                         batch_size=batch_size,\n",
    "                                         shuffle=False)\n",
    "\n",
    "examples = iter(test_loader)\n",
    "example_data, example_targets = examples.next()"
   ]
  },
  {
   "cell_type": "code",
   "execution_count": 51,
   "metadata": {},
   "outputs": [
    {
     "data": {
      "text/plain": [
       "torch.Size([28, 28])"
      ]
     },
     "execution_count": 51,
     "metadata": {},
     "output_type": "execute_result"
    }
   ],
   "source": [
    "example_data.shape\n",
    "# ([100, 1, 28, 28])\n",
    "example_data[0].shape\n",
    "# ([1,28,28])\n",
    "example_data[0][0].shape\n",
    "# ([28,28])"
   ]
  },
  {
   "cell_type": "code",
   "execution_count": 52,
   "metadata": {},
   "outputs": [
    {
     "data": {
      "image/png": "[encoded data removed]",
      "text/plain": [
       "<Figure size 432x288 with 6 Axes>"
      ]
     },
     "metadata": {
      "needs_background": "light"
     },
     "output_type": "display_data"
    }
   ],
   "source": [
    "for i in range(6):\n",
    "    plt.subplot(2,3,i+1)\n",
    "    plt.imshow(example_data[i][0], cmap='gray')\n",
    "plt.show()"
   ]
  },
  {
   "cell_type": "markdown",
   "metadata": {},
   "source": [
    "#### Model"
   ]
  },
  {
   "cell_type": "code",
   "execution_count": 53,
   "metadata": {},
   "outputs": [],
   "source": [
    "class NeuralNet(nn.Module):\n",
    "    def __init__(self, input_size, hidden_size, num_classes):\n",
    "        super(NeuralNet, self).__init__()\n",
    "        self.input_size = input_size\n",
    "        self.l1 = nn.Linear(input_size, hidden_size)\n",
    "        self.relu = nn.ReLU()\n",
    "        self.l2 = nn.Linear(hidden_size, num_classes)\n",
    "    \n",
    "    def forward(self, x):\n",
    "        out = self.l1(x)\n",
    "        out = self.relu(out)\n",
    "        out = self.l2(out)\n",
    "        return out\n",
    "\n",
    "model =  NeuralNet(input_size, hidden_size, num_classes).to(device)"
   ]
  },
  {
   "cell_type": "markdown",
   "metadata": {},
   "source": [
    "#### Loss and optimizer"
   ]
  },
  {
   "cell_type": "code",
   "execution_count": 54,
   "metadata": {},
   "outputs": [],
   "source": [
    "criterion = nn.CrossEntropyLoss()\n",
    "optimizer = torch.optim.Adam(model.parameters(), lr=learning_rate)"
   ]
  },
  {
   "cell_type": "markdown",
   "metadata": {},
   "source": [
    "#### train model"
   ]
  },
  {
   "cell_type": "code",
   "execution_count": 55,
   "metadata": {},
   "outputs": [
    {
     "name": "stdout",
     "output_type": "stream",
     "text": [
      "Epoch [1/2], Step [100/6000], Loss: 0.4423\n",
      "Epoch [1/2], Step [200/6000], Loss: 0.5812\n",
      "Epoch [1/2], Step [300/6000], Loss: 0.0958\n",
      "Epoch [1/2], Step [400/6000], Loss: 0.2463\n",
      "Epoch [1/2], Step [500/6000], Loss: 0.1786\n",
      "Epoch [1/2], Step [600/6000], Loss: 0.1533\n",
      "Epoch [1/2], Step [700/6000], Loss: 0.3328\n",
      "Epoch [1/2], Step [800/6000], Loss: 0.3566\n",
      "Epoch [1/2], Step [900/6000], Loss: 0.0698\n",
      "Epoch [1/2], Step [1000/6000], Loss: 0.1058\n",
      "Epoch [1/2], Step [1100/6000], Loss: 0.1613\n",
      "Epoch [1/2], Step [1200/6000], Loss: 0.0643\n",
      "Epoch [1/2], Step [1300/6000], Loss: 0.2306\n",
      "Epoch [1/2], Step [1400/6000], Loss: 0.0387\n",
      "Epoch [1/2], Step [1500/6000], Loss: 0.0442\n",
      "Epoch [1/2], Step [1600/6000], Loss: 0.0486\n",
      "Epoch [1/2], Step [1700/6000], Loss: 0.1556\n",
      "Epoch [1/2], Step [1800/6000], Loss: 0.0165\n",
      "Epoch [1/2], Step [1900/6000], Loss: 0.1021\n",
      "Epoch [1/2], Step [2000/6000], Loss: 0.0387\n",
      "Epoch [1/2], Step [2100/6000], Loss: 0.0557\n",
      "Epoch [1/2], Step [2200/6000], Loss: 0.2059\n",
      "Epoch [1/2], Step [2300/6000], Loss: 0.0038\n",
      "Epoch [1/2], Step [2400/6000], Loss: 0.0846\n",
      "Epoch [1/2], Step [2500/6000], Loss: 0.2342\n",
      "Epoch [1/2], Step [2600/6000], Loss: 0.3418\n",
      "Epoch [1/2], Step [2700/6000], Loss: 0.0069\n",
      "Epoch [1/2], Step [2800/6000], Loss: 0.0040\n",
      "Epoch [1/2], Step [2900/6000], Loss: 0.0107\n",
      "Epoch [1/2], Step [3000/6000], Loss: 0.3815\n",
      "Epoch [1/2], Step [3100/6000], Loss: 0.0360\n",
      "Epoch [1/2], Step [3200/6000], Loss: 0.1637\n",
      "Epoch [1/2], Step [3300/6000], Loss: 0.4290\n",
      "Epoch [1/2], Step [3400/6000], Loss: 0.3839\n",
      "Epoch [1/2], Step [3500/6000], Loss: 0.0789\n",
      "Epoch [1/2], Step [3600/6000], Loss: 0.6095\n",
      "Epoch [1/2], Step [3700/6000], Loss: 0.0855\n",
      "Epoch [1/2], Step [3800/6000], Loss: 0.3785\n",
      "Epoch [1/2], Step [3900/6000], Loss: 0.0069\n",
      "Epoch [1/2], Step [4000/6000], Loss: 0.6621\n",
      "Epoch [1/2], Step [4100/6000], Loss: 0.4485\n",
      "Epoch [1/2], Step [4200/6000], Loss: 0.0096\n",
      "Epoch [1/2], Step [4300/6000], Loss: 0.0027\n",
      "Epoch [1/2], Step [4400/6000], Loss: 0.2790\n",
      "Epoch [1/2], Step [4500/6000], Loss: 0.1463\n",
      "Epoch [1/2], Step [4600/6000], Loss: 0.0403\n",
      "Epoch [1/2], Step [4700/6000], Loss: 0.0857\n",
      "Epoch [1/2], Step [4800/6000], Loss: 0.0057\n",
      "Epoch [1/2], Step [4900/6000], Loss: 0.0025\n",
      "Epoch [1/2], Step [5000/6000], Loss: 0.2343\n",
      "Epoch [1/2], Step [5100/6000], Loss: 0.2213\n",
      "Epoch [1/2], Step [5200/6000], Loss: 0.0341\n",
      "Epoch [1/2], Step [5300/6000], Loss: 0.0277\n",
      "Epoch [1/2], Step [5400/6000], Loss: 0.2479\n",
      "Epoch [1/2], Step [5500/6000], Loss: 0.0962\n",
      "Epoch [1/2], Step [5600/6000], Loss: 0.1913\n",
      "Epoch [1/2], Step [5700/6000], Loss: 0.2332\n",
      "Epoch [1/2], Step [5800/6000], Loss: 0.0871\n",
      "Epoch [1/2], Step [5900/6000], Loss: 0.0027\n",
      "Epoch [1/2], Step [6000/6000], Loss: 0.0009\n",
      "Epoch [2/2], Step [100/6000], Loss: 0.0172\n",
      "Epoch [2/2], Step [200/6000], Loss: 0.0095\n",
      "Epoch [2/2], Step [300/6000], Loss: 0.0286\n",
      "Epoch [2/2], Step [400/6000], Loss: 0.0161\n",
      "Epoch [2/2], Step [500/6000], Loss: 0.0023\n",
      "Epoch [2/2], Step [600/6000], Loss: 0.0237\n",
      "Epoch [2/2], Step [700/6000], Loss: 0.2002\n",
      "Epoch [2/2], Step [800/6000], Loss: 0.0245\n",
      "Epoch [2/2], Step [900/6000], Loss: 0.0015\n",
      "Epoch [2/2], Step [1000/6000], Loss: 0.0147\n",
      "Epoch [2/2], Step [1100/6000], Loss: 0.0109\n",
      "Epoch [2/2], Step [1200/6000], Loss: 0.0005\n",
      "Epoch [2/2], Step [1300/6000], Loss: 0.0387\n",
      "Epoch [2/2], Step [1400/6000], Loss: 0.1998\n",
      "Epoch [2/2], Step [1500/6000], Loss: 0.0384\n",
      "Epoch [2/2], Step [1600/6000], Loss: 0.0269\n",
      "Epoch [2/2], Step [1700/6000], Loss: 0.0032\n",
      "Epoch [2/2], Step [1800/6000], Loss: 0.0108\n",
      "Epoch [2/2], Step [1900/6000], Loss: 0.0068\n",
      "Epoch [2/2], Step [2000/6000], Loss: 0.0093\n",
      "Epoch [2/2], Step [2100/6000], Loss: 0.0024\n",
      "Epoch [2/2], Step [2200/6000], Loss: 0.3663\n",
      "Epoch [2/2], Step [2300/6000], Loss: 0.0039\n",
      "Epoch [2/2], Step [2400/6000], Loss: 0.0066\n",
      "Epoch [2/2], Step [2500/6000], Loss: 0.0040\n",
      "Epoch [2/2], Step [2600/6000], Loss: 0.0413\n",
      "Epoch [2/2], Step [2700/6000], Loss: 0.0020\n",
      "Epoch [2/2], Step [2800/6000], Loss: 0.0679\n",
      "Epoch [2/2], Step [2900/6000], Loss: 0.1559\n",
      "Epoch [2/2], Step [3000/6000], Loss: 0.0086\n",
      "Epoch [2/2], Step [3100/6000], Loss: 0.0057\n",
      "Epoch [2/2], Step [3200/6000], Loss: 0.0190\n",
      "Epoch [2/2], Step [3300/6000], Loss: 0.0130\n",
      "Epoch [2/2], Step [3400/6000], Loss: 0.0011\n",
      "Epoch [2/2], Step [3500/6000], Loss: 0.0106\n",
      "Epoch [2/2], Step [3600/6000], Loss: 0.0040\n",
      "Epoch [2/2], Step [3700/6000], Loss: 0.0006\n",
      "Epoch [2/2], Step [3800/6000], Loss: 0.1400\n",
      "Epoch [2/2], Step [3900/6000], Loss: 0.1002\n",
      "Epoch [2/2], Step [4000/6000], Loss: 0.0433\n",
      "Epoch [2/2], Step [4100/6000], Loss: 0.0864\n",
      "Epoch [2/2], Step [4200/6000], Loss: 0.0030\n",
      "Epoch [2/2], Step [4300/6000], Loss: 0.0019\n",
      "Epoch [2/2], Step [4400/6000], Loss: 0.0125\n",
      "Epoch [2/2], Step [4500/6000], Loss: 0.0036\n",
      "Epoch [2/2], Step [4600/6000], Loss: 0.0020\n",
      "Epoch [2/2], Step [4700/6000], Loss: 0.0052\n",
      "Epoch [2/2], Step [4800/6000], Loss: 0.0861\n",
      "Epoch [2/2], Step [4900/6000], Loss: 0.0156\n",
      "Epoch [2/2], Step [5000/6000], Loss: 0.2098\n",
      "Epoch [2/2], Step [5100/6000], Loss: 0.0034\n",
      "Epoch [2/2], Step [5200/6000], Loss: 0.0389\n",
      "Epoch [2/2], Step [5300/6000], Loss: 0.5349\n",
      "Epoch [2/2], Step [5400/6000], Loss: 0.0084\n",
      "Epoch [2/2], Step [5500/6000], Loss: 0.5169\n",
      "Epoch [2/2], Step [5600/6000], Loss: 0.2135\n",
      "Epoch [2/2], Step [5700/6000], Loss: 0.0071\n",
      "Epoch [2/2], Step [5800/6000], Loss: 0.0025\n",
      "Epoch [2/2], Step [5900/6000], Loss: 0.0010\n",
      "Epoch [2/2], Step [6000/6000], Loss: 0.0004\n"
     ]
    }
   ],
   "source": [
    "n_total_steps = len(train_loader)\n",
    "for epoch in range(num_epochs):\n",
    "    for i, (images, labels) in enumerate(train_loader):\n",
    "        # origin images shape: [100, 1, 28, 28]\n",
    "        # resized: [100, 784]\n",
    "        images = images.reshape(-1, 28*28).to(device)\n",
    "        labels = labels.to(device)\n",
    "        \n",
    "        # Forward pass\n",
    "        outputs = model(images)\n",
    "        loss = criterion(outputs, labels)\n",
    "        \n",
    "        # Backward and optimize\n",
    "        optimizer.zero_grad()\n",
    "        loss.backward()\n",
    "        optimizer.step()\n",
    "        \n",
    "        if (i+1) % 100 == 0:\n",
    "            print(f'Epoch [{epoch+1}/{num_epochs}], Step [{i+1}/{n_total_steps}], Loss: {loss.item():.4f}')"
   ]
  },
  {
   "cell_type": "markdown",
   "metadata": {},
   "source": [
    "#### test model"
   ]
  },
  {
   "cell_type": "code",
   "execution_count": 56,
   "metadata": {},
   "outputs": [
    {
     "name": "stdout",
     "output_type": "stream",
     "text": [
      "Accuracy of the network on the 10000 test images: 97.83 %\n"
     ]
    }
   ],
   "source": [
    "with torch.no_grad():\n",
    "    n_correct = 0\n",
    "    n_samples = 0\n",
    "    for images, labels in test_loader:\n",
    "        images = images.reshape(-1,28*28).to(device)\n",
    "        labels = labels.to(device)\n",
    "        outputs = model(images)\n",
    "        \n",
    "        # max returns (value, index)\n",
    "        _, predicted = torch.max(outputs.data, 1)\n",
    "        n_samples += labels.size(0)\n",
    "        n_correct += (predicted == labels).sum().item()\n",
    "        \n",
    "    acc = 100.0 * n_correct / n_samples\n",
    "    print(f'Accuracy of the network on the 10000 test images: {acc} %')"
   ]
  },
  {
   "cell_type": "code",
   "execution_count": null,
   "metadata": {},
   "outputs": [],
   "source": []
  }
 ],
 "metadata": {
  "kernelspec": {
   "display_name": "Python 3",
   "language": "python",
   "name": "python3"
  },
  "language_info": {
   "codemirror_mode": {
    "name": "ipython",
    "version": 3
   },
   "file_extension": ".py",
   "mimetype": "text/x-python",
   "name": "python",
   "nbconvert_exporter": "python",
   "pygments_lexer": "ipython3",
   "version": "3.6.10"
  }
 },
 "nbformat": 4,
 "nbformat_minor": 4
}
