{
 "cells": [
  {
   "cell_type": "markdown",
   "metadata": {},
   "source": [
    "## 파이토치의 nn.Embedding()\n",
    "- 임베딩 벡터를 사용하는 두가지 방법\n",
    "- 1) 처음부터 임베딩 벡터를 학습하는 방법\n",
    "- 2) 미리 사전에 훈련된 임베딩 벡터를 가져와 사용하는 방법"
   ]
  },
  {
   "attachments": {},
   "cell_type": "markdown",
   "metadata": {},
   "source": [
    "### 1. 임베딩 층은 룩업 테이블\n",
    "- 1) 입력 시퀀스의 각 단어들은 모두 정수 인코딩\n",
    "- 2) 어떤 단어 -> 단어에 부여된 고유한 정수값 -> 임베딩 층 통과 -> 밀집벡터\n",
    "- 3) 입력 정수에 대해 밀집벡터로 맵핑\n",
    "- 4) 밀집벡터를 학습 --> 밀집벡터를 임베딩벡터라함<br>\n",
    "<br>\n",
    "- 특정 단어와 맵핑되는 정수를 입덱스로 가지는 테이블로부터 임베딩 벡터값을 가져오는 룩업테이블\n",
    "- 룩업테이블은 단어 집합의 크기만큼의 행을 가지므로 모든 단어는 고유한 임베딩 벡터를 가짐\n",
    "![image.png](https://github.com/tenjumh/PyTorch/blob/master/image/lookup_table.png?raw=True)"
   ]
  },
  {
   "cell_type": "markdown",
   "metadata": {},
   "source": [
    "### 룩업 테이블 과정을 nn.Embedding()을 사용하지 않고 구현"
   ]
  },
  {
   "cell_type": "code",
   "execution_count": 20,
   "metadata": {},
   "outputs": [],
   "source": [
    "import torch"
   ]
  },
  {
   "cell_type": "code",
   "execution_count": 21,
   "metadata": {},
   "outputs": [
    {
     "name": "stdout",
     "output_type": "stream",
     "text": [
      "['code', 'how', 'know', 'need', 'to', 'you']\n",
      "\n",
      "{'<UNK>': 0, '<PAD>': 1, 'code': 2, 'how': 3, 'know': 4, 'need': 5, 'to': 6, 'you': 7}\n"
     ]
    }
   ],
   "source": [
    "train_data = 'you need to know how to code'\n",
    "word_set = list(train_data.split())  \n",
    "word_set = sorted(set(word_set))\n",
    "print(word_set)\n",
    "print()\n",
    "vocab = {}\n",
    "vocab['<UNK>'] = 0\n",
    "vocab['<PAD>'] = 1\n",
    "for idx, word in enumerate(word_set):\n",
    "    vocab[word] = idx + 2\n",
    "    \n",
    "print(vocab)"
   ]
  },
  {
   "cell_type": "markdown",
   "metadata": {},
   "source": [
    "OR\n",
    "```\n",
    "train_data = 'you need to know how to code'\n",
    "word_set = set(train_data.split()) \n",
    "vocab = {word: i+2 for i, word in enumerate(word_set)}  # 단어 집합의 각 단어에 고유한 정수 맵핑.\n",
    "vocab['<unk>'] = 0\n",
    "vocab['<pad>'] = 1\n",
    "print(vocab)\n",
    "```"
   ]
  },
  {
   "cell_type": "code",
   "execution_count": 22,
   "metadata": {},
   "outputs": [],
   "source": [
    "# 단어 집합의 크기만큼의 행을 가지는 테이블 생성.\n",
    "embedding_table = torch.FloatTensor([\n",
    "                               [ 0.0,  0.0,  0.0],\n",
    "                               [ 0.0,  0.0,  0.0],\n",
    "                               [ 0.2,  0.9,  0.3],\n",
    "                               [ 0.1,  0.5,  0.7],\n",
    "                               [ 0.2,  0.1,  0.8],\n",
    "                               [ 0.4,  0.1,  0.1],\n",
    "                               [ 0.1,  0.8,  0.9],\n",
    "                               [ 0.6,  0.1,  0.1]])"
   ]
  },
  {
   "cell_type": "code",
   "execution_count": 27,
   "metadata": {},
   "outputs": [
    {
     "name": "stdout",
     "output_type": "stream",
     "text": [
      "tensor([7, 5, 6, 0])\n",
      "tensor([[0.6000, 0.1000, 0.1000],\n",
      "        [0.4000, 0.1000, 0.1000],\n",
      "        [0.1000, 0.8000, 0.9000],\n",
      "        [0.0000, 0.0000, 0.0000]])\n"
     ]
    }
   ],
   "source": [
    "# 임의의 문장 \"you need to run\"에 대해서 룩업 테이블을 통해 임베딩 벡터들 가져옴\n",
    "sample = 'you need to run'.split()\n",
    "idxes = []\n",
    "for word in sample:\n",
    "    try:\n",
    "        idxes.append(vocab[word])\n",
    "    except KeyError:   # vocab에 없는 단어의 경우 KeyError가 발생하니 <UNK> 예외처리\n",
    "        idxes.append(vocab['<UNK>'])\n",
    "idxes = torch.LongTensor(idxes)\n",
    "print(idxes)\n",
    "# 룩업 테이블\n",
    "lookup_result = embedding_table[idxes, :]   # 각 정수를 인덱스로 임베딩 테이블에서 값을 가져옴\n",
    "print(lookup_result)"
   ]
  },
  {
   "cell_type": "markdown",
   "metadata": {},
   "source": [
    "### 룩업 테이블 과정을 nn.Embedding()을 사용 구현\n",
    "- num_embeddings : 임베딩을 할 단어들의 개수, 단어 집합의 크기\n",
    "- embedding_dim : 임베딩 할 벡터의 차원, 하이퍼파라미터\n",
    "- padding_idx : 선택적 사용 인자, 패딩을 위한 토큰의 인덱스 알려줌"
   ]
  },
  {
   "cell_type": "code",
   "execution_count": 32,
   "metadata": {},
   "outputs": [],
   "source": [
    "import torch\n",
    "import torch.nn as nn"
   ]
  },
  {
   "cell_type": "code",
   "execution_count": 33,
   "metadata": {},
   "outputs": [
    {
     "name": "stdout",
     "output_type": "stream",
     "text": [
      "8\n"
     ]
    }
   ],
   "source": [
    "train_data = 'you need to know how to code'\n",
    "word_set = list(train_data.split())  \n",
    "word_set = sorted(set(word_set))\n",
    "vocab = {}\n",
    "vocab['<UNK>'] = 0\n",
    "vocab['<PAD>'] = 1\n",
    "for idx, word in enumerate(word_set):\n",
    "    vocab[word] = idx + 2\n",
    "print(len(vocab))"
   ]
  },
  {
   "cell_type": "code",
   "execution_count": 34,
   "metadata": {},
   "outputs": [],
   "source": [
    "embedding_layer = nn.Embedding(num_embeddings=len(vocab),\n",
    "                              embedding_dim=3,\n",
    "                              padding_idx = 1)"
   ]
  },
  {
   "cell_type": "code",
   "execution_count": 35,
   "metadata": {},
   "outputs": [
    {
     "name": "stdout",
     "output_type": "stream",
     "text": [
      "Embedding(8, 3, padding_idx=1)\n"
     ]
    }
   ],
   "source": [
    "print(embedding_layer)"
   ]
  },
  {
   "cell_type": "code",
   "execution_count": 36,
   "metadata": {},
   "outputs": [
    {
     "name": "stdout",
     "output_type": "stream",
     "text": [
      "Parameter containing:\n",
      "tensor([[-1.8918, -0.5395, -0.7265],\n",
      "        [ 0.0000,  0.0000,  0.0000],\n",
      "        [-1.0697, -0.0470, -1.3543],\n",
      "        [-0.8331,  1.0396, -0.1173],\n",
      "        [ 0.1322, -1.7347,  1.0463],\n",
      "        [ 0.6788,  0.8714,  1.3568],\n",
      "        [ 1.1479, -0.7493,  1.7126],\n",
      "        [-0.2333,  2.1249, -0.1547]], requires_grad=True)\n"
     ]
    }
   ],
   "source": [
    "print(embedding_layer.weight)"
   ]
  },
  {
   "cell_type": "code",
   "execution_count": null,
   "metadata": {},
   "outputs": [],
   "source": []
  }
 ],
 "metadata": {
  "kernelspec": {
   "display_name": "Python 3",
   "language": "python",
   "name": "python3"
  },
  "language_info": {
   "codemirror_mode": {
    "name": "ipython",
    "version": 3
   },
   "file_extension": ".py",
   "mimetype": "text/x-python",
   "name": "python",
   "nbconvert_exporter": "python",
   "pygments_lexer": "ipython3",
   "version": "3.6.10"
  }
 },
 "nbformat": 4,
 "nbformat_minor": 4
}
