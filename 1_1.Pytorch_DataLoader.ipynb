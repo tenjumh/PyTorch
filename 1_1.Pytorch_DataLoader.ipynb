{
 "cells": [
  {
   "cell_type": "code",
   "execution_count": 1,
   "metadata": {},
   "outputs": [],
   "source": [
    "import torch"
   ]
  },
  {
   "cell_type": "code",
   "execution_count": 2,
   "metadata": {},
   "outputs": [],
   "source": [
    "a = [[123, 234, 432],[24,12,54],[24,543,67],[2,5,3],[5434,24,52]]\n",
    "b = [2,1,4,4,4]"
   ]
  },
  {
   "cell_type": "code",
   "execution_count": 3,
   "metadata": {},
   "outputs": [],
   "source": [
    "a_tensor = torch.tensor(a)\n",
    "b_tensor = torch.tensor(b)"
   ]
  },
  {
   "cell_type": "code",
   "execution_count": 6,
   "metadata": {},
   "outputs": [
    {
     "name": "stdout",
     "output_type": "stream",
     "text": [
      "tensor([[ 123,  234,  432],\n",
      "        [  24,   12,   54],\n",
      "        [  24,  543,   67],\n",
      "        [   2,    5,    3],\n",
      "        [5434,   24,   52]]) torch.Size([5, 3])\n",
      "tensor([2, 1, 4, 4, 4])\n"
     ]
    }
   ],
   "source": [
    "print(a_tensor, '\\n]', a_tensor.shape)\n",
    "print(b_tensor)"
   ]
  },
  {
   "cell_type": "code",
   "execution_count": null,
   "metadata": {},
   "outputs": [],
   "source": []
  }
 ],
 "metadata": {
  "kernelspec": {
   "display_name": "Python 3",
   "language": "python",
   "name": "python3"
  },
  "language_info": {
   "codemirror_mode": {
    "name": "ipython",
    "version": 3
   },
   "file_extension": ".py",
   "mimetype": "text/x-python",
   "name": "python",
   "nbconvert_exporter": "python",
   "pygments_lexer": "ipython3",
   "version": "3.6.10"
  }
 },
 "nbformat": 4,
 "nbformat_minor": 4
}
