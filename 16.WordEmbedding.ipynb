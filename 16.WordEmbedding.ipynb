{
 "cells": [
  {
   "cell_type": "code",
   "execution_count": 1,
   "metadata": {},
   "outputs": [
    {
     "data": {
      "text/plain": [
       "<torch._C.Generator at 0x2119f5873b0>"
      ]
     },
     "execution_count": 1,
     "metadata": {},
     "output_type": "execute_result"
    }
   ],
   "source": [
    "import torch\n",
    "import torch.nn as nn\n",
    "import torch.nn.functional as F\n",
    "import torch.optim as optim\n",
    "\n",
    "torch.manual_seed(1)"
   ]
  },
  {
   "cell_type": "code",
   "execution_count": 14,
   "metadata": {},
   "outputs": [
    {
     "name": "stdout",
     "output_type": "stream",
     "text": [
      "tensor([0])\n",
      "tensor([[ 1.8782, -0.5666,  0.4016, -0.1153,  0.3170]],\n",
      "       grad_fn=<EmbeddingBackward>)\n"
     ]
    }
   ],
   "source": [
    "word_to_ix = {\"hello\": 0, \"world\": 1}\n",
    "embeds = nn.Embedding(2, 5)  # 2 words in vocab, 5 dimensional embeddings\n",
    "#lookup_tensor = torch.tensor([word_to_ix[\"hello\"]], dtype=torch.long)\n",
    "lookup_tensor = torch.tensor([word_to_ix[\"hello\"]], dtype=torch.long)\n",
    "print(lookup_tensor)\n",
    "hello_embed = embeds(lookup_tensor)\n",
    "print(hello_embed)"
   ]
  },
  {
   "cell_type": "markdown",
   "metadata": {},
   "source": [
    "## N-Gram"
   ]
  },
  {
   "cell_type": "code",
   "execution_count": null,
   "metadata": {},
   "outputs": [],
   "source": [
    "CONTEXT_SIZE = 2\n",
    "EMBEDDING_DIM = 10\n",
    "# We will use Shakespeare Sonnet 2\n",
    "test_sentence = \"\"\"When forty winters shall besiege thy brow,\n",
    "And dig deep trenches in thy beauty's field,\n",
    "Thy youth's proud livery so gazed on now,\n",
    "Will be a totter'd weed of small worth held:\n",
    "Then being asked, where all thy beauty lies,\n",
    "Where all the treasure of thy lusty days;\n",
    "To say, within thine own deep sunken eyes,\n",
    "Were an all-eating shame, and thriftless praise.\n",
    "How much more praise deserv'd thy beauty's use,\n",
    "If thou couldst answer 'This fair child of mine\n",
    "Shall sum my count, and make my old excuse,'\n",
    "Proving his beauty by succession thine!\n",
    "This were to be new made when thou art old,\n",
    "And see thy blood warm when thou feel'st it cold.\"\"\".split()"
   ]
  },
  {
   "cell_type": "code",
   "execution_count": 16,
   "metadata": {},
   "outputs": [
    {
     "data": {
      "text/plain": [
       "['When',\n",
       " 'forty',\n",
       " 'winters',\n",
       " 'shall',\n",
       " 'besiege',\n",
       " 'thy',\n",
       " 'brow,',\n",
       " 'And',\n",
       " 'dig',\n",
       " 'deep',\n",
       " 'trenches',\n",
       " 'in',\n",
       " 'thy',\n",
       " \"beauty's\",\n",
       " 'field,',\n",
       " 'Thy',\n",
       " \"youth's\",\n",
       " 'proud',\n",
       " 'livery',\n",
       " 'so',\n",
       " 'gazed',\n",
       " 'on',\n",
       " 'now,',\n",
       " 'Will',\n",
       " 'be',\n",
       " 'a',\n",
       " \"totter'd\",\n",
       " 'weed',\n",
       " 'of',\n",
       " 'small',\n",
       " 'worth',\n",
       " 'held:',\n",
       " 'Then',\n",
       " 'being',\n",
       " 'asked,',\n",
       " 'where',\n",
       " 'all',\n",
       " 'thy',\n",
       " 'beauty',\n",
       " 'lies,',\n",
       " 'Where',\n",
       " 'all',\n",
       " 'the',\n",
       " 'treasure',\n",
       " 'of',\n",
       " 'thy',\n",
       " 'lusty',\n",
       " 'days;',\n",
       " 'To',\n",
       " 'say,',\n",
       " 'within',\n",
       " 'thine',\n",
       " 'own',\n",
       " 'deep',\n",
       " 'sunken',\n",
       " 'eyes,',\n",
       " 'Were',\n",
       " 'an',\n",
       " 'all-eating',\n",
       " 'shame,',\n",
       " 'and',\n",
       " 'thriftless',\n",
       " 'praise.',\n",
       " 'How',\n",
       " 'much',\n",
       " 'more',\n",
       " 'praise',\n",
       " \"deserv'd\",\n",
       " 'thy',\n",
       " \"beauty's\",\n",
       " 'use,',\n",
       " 'If',\n",
       " 'thou',\n",
       " 'couldst',\n",
       " 'answer',\n",
       " \"'This\",\n",
       " 'fair',\n",
       " 'child',\n",
       " 'of',\n",
       " 'mine',\n",
       " 'Shall',\n",
       " 'sum',\n",
       " 'my',\n",
       " 'count,',\n",
       " 'and',\n",
       " 'make',\n",
       " 'my',\n",
       " 'old',\n",
       " \"excuse,'\",\n",
       " 'Proving',\n",
       " 'his',\n",
       " 'beauty',\n",
       " 'by',\n",
       " 'succession',\n",
       " 'thine!',\n",
       " 'This',\n",
       " 'were',\n",
       " 'to',\n",
       " 'be',\n",
       " 'new',\n",
       " 'made',\n",
       " 'when',\n",
       " 'thou',\n",
       " 'art',\n",
       " 'old,',\n",
       " 'And',\n",
       " 'see',\n",
       " 'thy',\n",
       " 'blood',\n",
       " 'warm',\n",
       " 'when',\n",
       " 'thou',\n",
       " \"feel'st\",\n",
       " 'it',\n",
       " 'cold.']"
      ]
     },
     "execution_count": 16,
     "metadata": {},
     "output_type": "execute_result"
    }
   ],
   "source": [
    "test_sentence"
   ]
  },
  {
   "cell_type": "code",
   "execution_count": 15,
   "metadata": {},
   "outputs": [
    {
     "name": "stdout",
     "output_type": "stream",
     "text": [
      "[(['When', 'forty'], 'winters'), (['forty', 'winters'], 'shall'), (['winters', 'shall'], 'besiege')]\n"
     ]
    }
   ],
   "source": [
    "# 입력 데이터 토큰화, \n",
    "# ([ word_i-2, word_i-1 ], target word)\n",
    "trigrams = [([test_sentence[i], test_sentence[i + 1]], test_sentence[i + 2])\n",
    "            for i in range(len(test_sentence) - 2)]\n",
    "# print the first 3, just so you can see what they look like\n",
    "print(trigrams[:3])"
   ]
  },
  {
   "cell_type": "code",
   "execution_count": 21,
   "metadata": {},
   "outputs": [
    {
     "name": "stdout",
     "output_type": "stream",
     "text": [
      "{\"deserv'd\", 'shame,', 'now,', 'trenches', 'it', 'praise.', 'where', 'in', 'shall', \"excuse,'\", 'to', 'own', 'weed', \"'This\", 'see', 'so', 'thou', 'much', 'Shall', 'count,', 'winters', 'my', 'all', 'How', \"youth's\", 'answer', 'gazed', 'livery', 'Were', 'thine', 'Will', \"beauty's\", 'held:', 'warm', 'This', 'proud', 'couldst', 'eyes,', 'Then', 'be', 'Proving', 'his', 'old', 'lusty', 'days;', 'thriftless', 'a', 'Where', 'dig', \"totter'd\", 'When', 'made', 'besiege', 'sunken', 'when', 'brow,', 'more', 'field,', 'make', 'of', 'Thy', 'praise', 'beauty', 'treasure', 'fair', 'and', 'old,', 'blood', 'lies,', 'new', 'child', 'succession', 'sum', 'small', 'asked,', 'within', \"feel'st\", 'by', 'To', 'forty', 'cold.', 'mine', 'thine!', 'deep', 'an', 'And', 'worth', 'the', 'being', 'say,', 'thy', 'use,', 'art', 'were', 'If', 'all-eating', 'on'}\n"
     ]
    }
   ],
   "source": [
    "vocab = set(test_sentence)\n",
    "print(vocab)"
   ]
  },
  {
   "cell_type": "code",
   "execution_count": 25,
   "metadata": {},
   "outputs": [],
   "source": [
    "word_to_ix = {word : i for i, word in enumerate(vocab)}"
   ]
  },
  {
   "cell_type": "code",
   "execution_count": 27,
   "metadata": {},
   "outputs": [],
   "source": [
    "class NGramLanguageModeler(nn.Module):\n",
    "\n",
    "    def __init__(self, vocab_size, embedding_dim, context_size):\n",
    "        super(NGramLanguageModeler, self).__init__()\n",
    "        self.embeddings = nn.Embedding(vocab_size, embedding_dim)\n",
    "        self.linear1 = nn.Linear(context_size * embedding_dim, 128)\n",
    "        self.linear2 = nn.Linear(128, vocab_size)\n",
    "\n",
    "    def forward(self, inputs):\n",
    "        embeds = self.embeddings(inputs).view((1, -1))\n",
    "        out = F.relu(self.linear1(embeds))\n",
    "        out = self.linear2(out)\n",
    "        log_probs = F.log_softmax(out, dim=1)\n",
    "        return log_probs"
   ]
  },
  {
   "cell_type": "code",
   "execution_count": 28,
   "metadata": {},
   "outputs": [],
   "source": [
    "losses = []\n",
    "loss_function = nn.NLLLoss()\n",
    "model = NGramLanguageModeler(len(vocab), EMBEDDING_DIM, CONTEXT_SIZE)\n",
    "optimizer = optim.SGD(model.parameters(), lr=0.001)"
   ]
  },
  {
   "cell_type": "code",
   "execution_count": null,
   "metadata": {},
   "outputs": [],
   "source": [
    "for epoch in range(10):\n",
    "    total_loss = 0\n",
    "    for context, target in trigrams:\n",
    "\n",
    "        # Step 1. model을 통과할 입력 데이터 준비 \n",
    "        # (단어를 정수로 변환하고 그것들을 tensor에 감싼다)\n",
    "        context_idxs = torch.tensor([word_to_ix[w] for w in context], dtype=torch.long)\n",
    "\n",
    "        # Step 2. 새로운 instance를 통과시키기 전에 축적된 gradients를 터치에 Recall \n",
    "        # 이전 instance로 gradients를 Zero out\n",
    "        model.zero_grad()\n",
    "\n",
    "        # Step 3. Model에 forward\n",
    "        log_probs = model(context_idxs)\n",
    "\n",
    "        # Step 4. loss function 적용. (loss_function(y_pred, y))\n",
    "        # y도 tensor에 정수화해서 넣어줌\n",
    "        loss = loss_function(log_probs, torch.tensor([word_to_ix[target]], dtype=torch.long))\n",
    "\n",
    "        # Step 5. backward에 넣고 gredient 업데이트\n",
    "        loss.backward()\n",
    "        optimizer.step()\n",
    "\n",
    "        # Get the Python number from a 1-element Tensor by calling tensor.item()\n",
    "        total_loss += loss.item()\n",
    "    losses.append(total_loss)\n",
    "print(losses)  # The loss decreased every iteration over the training data!"
   ]
  }
 ],
 "metadata": {
  "kernelspec": {
   "display_name": "Python 3",
   "language": "python",
   "name": "python3"
  },
  "language_info": {
   "codemirror_mode": {
    "name": "ipython",
    "version": 3
   },
   "file_extension": ".py",
   "mimetype": "text/x-python",
   "name": "python",
   "nbconvert_exporter": "python",
   "pygments_lexer": "ipython3",
   "version": "3.6.10"
  }
 },
 "nbformat": 4,
 "nbformat_minor": 4
}
