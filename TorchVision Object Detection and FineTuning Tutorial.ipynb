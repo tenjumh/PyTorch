{
 "cells": [
  {
   "cell_type": "code",
   "execution_count": 1,
   "metadata": {},
   "outputs": [],
   "source": [
    "import os\n",
    "import numpy as np\n",
    "import torch\n",
    "from PIL import Image"
   ]
  },
  {
   "cell_type": "code",
   "execution_count": null,
   "metadata": {},
   "outputs": [],
   "source": [
    "class PennFudanDataset(object):\n",
    "    def __init__(self, root, transforms):\n",
    "        self.root = root\n",
    "        self.transforms = transforms\n",
    "        # 모든 이미지 파일들을 읽고, 정렬\n",
    "        # 이미지와 분할 마스크 정렬을 확인\n",
    "        self.imgs = list(sorted(os.listdir(os.path.join(root, \"PNGImages\"))))\n",
    "        self.masks = list(sorted(os.listdir(os.path.join(root, \"PedMasks\"))))\n",
    "        \n",
    "    def __getitem__(self, idx):\n",
    "        # 이미지와 마스크를 로딩\n",
    "        img_path = os.path.join(self.root, \"PNGImages\", self.imgs[idx])\n",
    "        mask_path = os.path.join(self.root, \"PedMasks\", self.masks[idx])\n",
    "        img = Image.open(img_path).convert(\"RGB\")\n",
    "        # 분할 마스크는 RGB로 변환하지 않음\n",
    "        # 왜냐하면 각 색상은 다른 인스턴스에 해당, 0은 배경에 해당\n",
    "        mask = Image.open(mask_path)\n",
    "        print('org :', mask[:1])\n",
    "        \n",
    "        # numpy 배열을 PIL 이미지로 변환\n",
    "        mask = np.array(mask)\n",
    "        print('change :', mask[:1])\n",
    "        # 인스턴스들은 다른 색들로 인코딩 되어 있습니다.\n",
    "        obj_ids = np.unique(mask)\n",
    "        print('unique :', mask[:1])\n",
    "        # 첫번째 id 는 배경이라 제거합니다\n",
    "        obj_ids = obj_ids[1:]\n",
    "        \n",
    "        # 컬러 인코딩된 마스크를 바이너리 마스크 세트로 나눕니다\n",
    "        masks = mask == obj_ids[:, None, None]\n",
    "        \n",
    "        # 각 마스크의 바운딩 박스 좌표를 얻습니다\n",
    "        num_objs = len(obj_ids)\n",
    "        boxes = []\n",
    "        for i in range(num_objs):\n",
    "            pos = np.where(masks[i])\n",
    "            xmin = np.min(pos[1])\n",
    "            xmax = np.max(pos[1])\n",
    "            ymin = np.min(pos[0])\n",
    "            ymax = np.max(pos[0])\n",
    "            boxes.append([xmin, ymin, xmax, ymax])"
   ]
  }
 ],
 "metadata": {
  "kernelspec": {
   "display_name": "Python 3",
   "language": "python",
   "name": "python3"
  },
  "language_info": {
   "codemirror_mode": {
    "name": "ipython",
    "version": 3
   },
   "file_extension": ".py",
   "mimetype": "text/x-python",
   "name": "python",
   "nbconvert_exporter": "python",
   "pygments_lexer": "ipython3",
   "version": "3.6.10"
  }
 },
 "nbformat": 4,
 "nbformat_minor": 4
}
